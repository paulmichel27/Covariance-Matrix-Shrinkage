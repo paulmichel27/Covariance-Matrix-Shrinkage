{
 "cells": [
  {
   "cell_type": "code",
   "execution_count": 16,
   "id": "351d164d-2152-47b3-af83-6c2a715a3c73",
   "metadata": {},
   "outputs": [
    {
     "name": "stdout",
     "output_type": "stream",
     "text": [
      "[*********************100%***********************]  1 of 1 completed\n",
      "[*********************100%***********************]  1 of 1 completed\n",
      "[*********************100%***********************]  1 of 1 completed\n",
      "[*********************100%***********************]  1 of 1 completed\n",
      "[*********************100%***********************]  1 of 1 completed\n",
      "[*********************100%***********************]  1 of 1 completed\n",
      "[*********************100%***********************]  1 of 1 completed\n",
      "[*********************100%***********************]  1 of 1 completed\n",
      "[*********************100%***********************]  1 of 1 completed\n",
      "[*********************100%***********************]  1 of 1 completed\n",
      "[*********************100%***********************]  1 of 1 completed\n",
      "[*********************100%***********************]  1 of 1 completed\n",
      "[*********************100%***********************]  1 of 1 completed\n",
      "[*********************100%***********************]  1 of 1 completed\n",
      "[*********************100%***********************]  1 of 1 completed\n",
      "[*********************100%***********************]  1 of 1 completed\n",
      "[*********************100%***********************]  1 of 1 completed\n",
      "[*********************100%***********************]  1 of 1 completed\n",
      "[*********************100%***********************]  1 of 1 completed\n",
      "[*********************100%***********************]  1 of 1 completed\n",
      "[*********************100%***********************]  1 of 1 completed\n",
      "[*********************100%***********************]  1 of 1 completed\n",
      "[*********************100%***********************]  1 of 1 completed\n",
      "[*********************100%***********************]  1 of 1 completed\n",
      "[*********************100%***********************]  1 of 1 completed\n",
      "[*********************100%***********************]  1 of 1 completed\n",
      "[*********************100%***********************]  1 of 1 completed\n",
      "[*********************100%***********************]  1 of 1 completed\n",
      "[*********************100%***********************]  1 of 1 completed\n",
      "[*********************100%***********************]  1 of 1 completed\n"
     ]
    }
   ],
   "source": [
    "#Step 1: Getting historical Data from yfinance\n",
    "import numpy as np\n",
    "import pandas as pd\n",
    "import yfinance as yf\n",
    "\n",
    "assets = ['ES=F', 'CL=F', 'GC=F', 'SI=F', 'AAPL', 'MSFT', 'GOOGL', 'AMZN', \n",
    "          'JPM', 'V', 'PG', 'XOM', 'GLD', 'SLV', 'USO', 'SPY', 'TLT', 'QQQ', 'DIA', \n",
    "          'NFLX', 'TSLA', 'BA', 'KO', 'DIS', 'PLUG', 'GS', 'IBM', 'INTC', 'ORCL', 'NVDA']\n",
    "\n",
    "start_date = '2000-01-01'\n",
    "end_date = '2021-12-31'\n",
    "# Fetch the data for all assets\n",
    "data = pd.DataFrame()\n",
    "for i,  asset in enumerate(assets):\n",
    "    try:\n",
    "        df = yf.download(asset, start=start_date, end=end_date)  # download data for each asset\n",
    "        if not df.empty:  \n",
    "            df = df.resample('B').mean().fillna(method='ffill')  \n",
    "            data[asset] = df['Close'].pct_change()  # Store close prices in the data dataframe\n",
    "            \n",
    "    except Exception as e:\n",
    "        print(f\"Failed to download {asset}: {str(e)}\")\n",
    "\n",
    "data = data.dropna()"
   ]
  },
  {
   "cell_type": "code",
   "execution_count": 17,
   "id": "739f1f8c-abae-47d4-8d95-e685a45fde33",
   "metadata": {},
   "outputs": [
    {
     "name": "stdout",
     "output_type": "stream",
     "text": [
      "Eigenvalues of original covariance matrix: [5.01868374e-03 3.73695622e-03 2.43605759e-03 9.69309468e-04\n",
      " 8.33112139e-04 7.34091814e-04 4.91233735e-04 3.16171047e-04\n",
      " 2.99687736e-04 2.31940076e-04 1.96504178e-04 1.62102242e-04\n",
      " 1.55660812e-04 1.34210203e-04 1.11274178e-06 5.26271994e-06\n",
      " 3.50995921e-06 4.40154114e-06 1.91705377e-05 1.14228712e-04\n",
      " 1.08214827e-04 1.04150587e-04 9.25514207e-05 8.33319193e-05\n",
      " 7.67586046e-05 6.56644820e-05 4.95279632e-05 4.11392111e-05\n",
      " 4.32028882e-05 4.52982458e-05]\n",
      "Eigenvalues of shrunk covariance matrix: [4.44789946e-03 3.53651932e-03 1.76394617e-03 9.86464591e-04\n",
      " 8.44993316e-04 5.69055095e-04 5.30953544e-04 4.15155755e-04\n",
      " 3.71196075e-04 3.11005166e-04 2.59374408e-04 5.31249489e-05\n",
      " 5.55457876e-05 5.81950863e-05 6.62683675e-05 7.06605689e-05\n",
      " 8.40336670e-05 8.02111297e-05 9.44477576e-05 1.13226949e-04\n",
      " 2.34729244e-04 2.15096353e-04 1.48341270e-04 1.96383297e-04\n",
      " 1.65244361e-04 1.88771028e-04 1.87501017e-04 1.70585282e-04\n",
      " 1.78595079e-04 1.75723271e-04]\n"
     ]
    }
   ],
   "source": [
    "#Step 2: calculating the covariance matrix\n",
    "cov_matrix = np.cov(data[assets].values, rowvar=False)\n",
    "\n",
    "#Step 3: calculating the shrunken covariance matrix\n",
    "#diagonal matrix\n",
    "    # use np.diag twice: first, to extract the diagonal (variances) from the covariance matrix \n",
    "    # second: to construct a new matrix with these variances on the diagonal and zeros elsewhere. \n",
    "D = np.diag(np.diag(cov_matrix)) \n",
    "\n",
    "#shrinkage intensity\n",
    "    #a hyperparameter that determines the degree of shrinkage\n",
    "    #0<gamma<1\n",
    "gamma = 0.5\n",
    "\n",
    "#shrinkage covariance matrix\n",
    "cov_matrix_shrunk = gamma * D + (1 - gamma) * cov_matrix\n",
    "\n",
    "#Step 4: calculate eigenvalues\n",
    "    #give information about the amount of variance in the data. Larger eigenvalues correspond to larger variances. \n",
    "    #In the context of finance, larger variance often means more risk.\n",
    "eigvals_original = np.linalg.eigvals(cov_matrix)\n",
    "eigvals_shrunk = np.linalg.eigvals(cov_matrix_shrunk)\n",
    "\n",
    "print(f'Eigenvalues of original covariance matrix: {eigvals_original}')\n",
    "print(f'Eigenvalues of shrunk covariance matrix: {eigvals_shrunk}')"
   ]
  },
  {
   "cell_type": "code",
   "execution_count": 18,
   "id": "045e680f-84ea-4320-ab97-8b2159785da4",
   "metadata": {},
   "outputs": [
    {
     "name": "stdout",
     "output_type": "stream",
     "text": [
      "Variance of eigenvalues of original covariance matrix: 1.2921670141405038e-06\n",
      "Variance of eigenvalues of shrunk covariance matrix: 9.80645231655608e-07\n"
     ]
    }
   ],
   "source": [
    "#Step 5: calculating variances\n",
    "#From the results:\n",
    "    #the eigenvalues are not consistently lower or higher, so to get more concrete results, we should calculate the respective variances\n",
    "variance_original = np.var(eigvals_original)\n",
    "variance_shrunk = np.var(eigvals_shrunk)\n",
    "\n",
    "print(f'Variance of eigenvalues of original covariance matrix: {variance_original}')\n",
    "print(f'Variance of eigenvalues of shrunk covariance matrix: {variance_shrunk}')"
   ]
  },
  {
   "cell_type": "code",
   "execution_count": 19,
   "id": "50600404-1471-4e68-8b4d-cf9d18b00f4a",
   "metadata": {},
   "outputs": [],
   "source": [
    "#From the results, can conclude that the shrunk covariance matrix has a lower variance\n",
    "#This indicates lower risk and hence suggests a more stable protfolio, making it more optimal for portfolio management"
   ]
  }
 ],
 "metadata": {
  "kernelspec": {
   "display_name": "Python 3 (ipykernel)",
   "language": "python",
   "name": "python3"
  },
  "language_info": {
   "codemirror_mode": {
    "name": "ipython",
    "version": 3
   },
   "file_extension": ".py",
   "mimetype": "text/x-python",
   "name": "python",
   "nbconvert_exporter": "python",
   "pygments_lexer": "ipython3",
   "version": "3.11.4"
  }
 },
 "nbformat": 4,
 "nbformat_minor": 5
}
